{
 "cells": [
  {
   "attachments": {
    "image.png": {
     "image/png": "[encoded data removed]"
    }
   },
   "cell_type": "markdown",
   "id": "3f155fc9",
   "metadata": {},
   "source": [
    "![image.png](attachment:image.png)"
   ]
  },
  {
   "cell_type": "markdown",
   "id": "6c213a99",
   "metadata": {},
   "source": [
    "1. Criar o labirinto\n",
    "2. Printar o labirinto\n",
    "3. Posicionar o robô em uma posição aleatória\n",
    "4. Movimentação\n",
    "    - Procura por 'S' em todas as direções \n",
    "        - Caso encontre -> Acabou o jogo\n",
    "        - Caso não encontre --> Continua a jogo\n",
    "    - Procurar por ' ' em todas as direções\n",
    "        - Caso encontre --> Mover, trocar por - e adicionar a pilha\n",
    "        - Caso não encontre --> Retornar usando a pilha \n",
    "    - Repetir processo"
   ]
  },
  {
   "cell_type": "code",
   "execution_count": 1,
   "id": "cbacb56f",
   "metadata": {
    "ExecuteTime": {
     "end_time": "2022-04-10T14:45:29.945914Z",
     "start_time": "2022-04-10T14:45:29.935919Z"
    }
   },
   "outputs": [],
   "source": []
  },
  {
   "cell_type": "code",
   "execution_count": 1,
   "id": "d5ead0f4",
   "metadata": {
    "ExecuteTime": {
     "end_time": "2022-04-10T22:02:28.015356Z",
     "start_time": "2022-04-10T22:02:27.980377Z"
    }
   },
   "outputs": [],
   "source": [
    "import time\n",
    "from random import choice, randint\n",
    "import copy as cp\n",
    "from IPython.display import clear_output\n",
    "from tabulate import tabulate"
   ]
  },
  {
   "cell_type": "code",
   "execution_count": 2,
   "id": "3d6812e7",
   "metadata": {
    "ExecuteTime": {
     "end_time": "2022-04-10T22:02:28.533341Z",
     "start_time": "2022-04-10T22:02:28.522348Z"
    }
   },
   "outputs": [],
   "source": [
    "# labirinto = {\n",
    "#     0:{0: ' ', 1: '#', 2: '#', 3: '#', 4: '#', 5: '#', 6: '#', 7: '#', 8: '#', 9: '#', 10: '#', 11: '#'},\n",
    "#     1:{0: ' ', 1: ' ', 2: ' ', 3: ' ', 4: ' ', 5: '#', 6: ' ', 7: ' ', 8: ' ', 9: ' ', 10: ' ', 11: '#'},\n",
    "#     2:{0: '#', 1: '#', 2: '#', 3: '#', 4: ' ', 5: '#', 6: '#', 7: '#', 8: ' ', 9: '#', 10: ' ', 11: '#'},\n",
    "#     3:{0: '#', 1: ' ', 2: ' ', 3: ' ', 4: ' ', 5: ' ', 6: ' ', 7: '#', 8: ' ', 9: '#', 10: ' ', 11: '#'},\n",
    "#     4:{0: '#', 1: ' ', 2: '#', 3: '#', 4: '#', 5: ' ', 6: ' ', 7: '#', 8: ' ', 9: '#', 10: ' ', 11: '#'},\n",
    "#     5:{0: '#', 1: ' ', 2: '#', 3: ' ', 4: '#', 5: '#', 6: '#', 7: '#', 8: ' ', 9: '#', 10: ' ', 11: '#'},\n",
    "#     6:{0: '#', 1: ' ', 2: '#', 3: ' ', 4: ' ', 5: ' ', 6: ' ', 7: ' ', 8: ' ', 9: '#', 10: ' ', 11: '#'},\n",
    "#     7:{0: '#', 1: ' ', 2: '#', 3: ' ', 4: '#', 5: '#', 6: ' ', 7: '#', 8: ' ', 9: '#', 10: ' ', 11: '#'},\n",
    "#     8:{0: '#', 1: ' ', 2: ' ', 3: ' ', 4: ' ', 5: '#', 6: ' ', 7: ' ', 8: ' ', 9: '#', 10: ' ', 11: '#'},\n",
    "#     9:{0: '#', 1: '#', 2: '#', 3: '#', 4: '#', 5: '#', 6: '#', 7: '#', 8: '#', 9: '#', 10: ' ', 11: ' '},\n",
    "# }\n",
    "\n",
    "\n",
    "# def printar_labirinto_v2(labirinto: dict) -> None:\n",
    "#     '''Printa um dicionário no formato estabelecido de labirinto'''\n",
    "    \n",
    "#     for ts in [\"grid\", \"fancy_grid\", \"pretty\"]:\n",
    "#         headers = {chave: letra for chave, letra in zip(labirinto[0].keys(), ascii_uppercase)}\n",
    "#         print(tabulate(labirinto.values(),showindex='always' , tablefmt=ts, headers=headers))\n",
    "        \n",
    "#     return None\n",
    "\n",
    "\n",
    "# printar_labirinto_v2(labirinto)"
   ]
  },
  {
   "cell_type": "code",
   "execution_count": 3,
   "id": "cd8d859a",
   "metadata": {
    "ExecuteTime": {
     "end_time": "2022-04-10T22:02:28.956972Z",
     "start_time": "2022-04-10T22:02:28.935984Z"
    }
   },
   "outputs": [],
   "source": [
    "def printar_labirinto(labirinto: list) -> None:\n",
    "    '''Printa um dicionário no formato estabelecido de labirinto'''\n",
    "    # titulo \n",
    "    print('   '+' '.join([str(x).zfill(2) for x in range(len(labirinto[0]))]))\n",
    "\n",
    "    # \n",
    "    for i, linha in enumerate(labirinto):\n",
    "        print(str(i).zfill(2)+' '+' '.join([x.rjust(2, x) for x in linha]))\n",
    "\n",
    "    return None"
   ]
  },
  {
   "cell_type": "code",
   "execution_count": 4,
   "id": "6a28bcfc",
   "metadata": {
    "ExecuteTime": {
     "end_time": "2022-04-10T22:02:29.373051Z",
     "start_time": "2022-04-10T22:02:29.353081Z"
    }
   },
   "outputs": [],
   "source": [
    "def posicionar_aleatorio(labirinto:list , caracter_a_posicionar:str, lista_a_ignorar:list or None = None) -> tuple:\n",
    "    '''Posiciona um caracter em uma posição valida\n",
    "    \n",
    "    labirinto: lista de listas\n",
    "    caracter_a_posicionar: qual caracter deve ser posicionado\n",
    "    lista_a_ignorar: lista de caracteres, os quais o caracter_a_posicionar nao pode ocupar a posicao\n",
    "    \n",
    "    retorna: uma tupla linha, coluna da posição em que o robo foi inserido\n",
    "    '''\n",
    "    \n",
    "    linha = randint(0, len(labirinto)-1)\n",
    "    coluna = randint(0, len(labirinto[0])-1)\n",
    "    \n",
    "    if labirinto[linha][coluna] in lista_a_ignorar:\n",
    "        return posicionar_aleatorio(labirinto, caracter_a_posicionar, lista_a_ignorar)\n",
    "    \n",
    "    labirinto[linha][coluna] = caracter_a_posicionar\n",
    "    \n",
    "    return linha, coluna"
   ]
  },
  {
   "cell_type": "code",
   "execution_count": 5,
   "id": "9d3f2f17",
   "metadata": {
    "ExecuteTime": {
     "end_time": "2022-04-10T22:02:29.792127Z",
     "start_time": "2022-04-10T22:02:29.763143Z"
    }
   },
   "outputs": [],
   "source": [
    "def procurar_direcional(labirinto:dict, posicao_atual:tuple, procurado:str) -> tuple or bool:\n",
    "    '''Verifica se o robo pode ser movimentar para uma posição procurada\n",
    "    \n",
    "    retorna False se o robo NÃO pode se movimentar para um caractere/posição procurado,\n",
    "    retorna A POSIÇÃO se o robo pode se movimenta para um caractere/posição procurado'''\n",
    "   \n",
    "    linha = posicao_atual[0]\n",
    "    coluna = posicao_atual[1]\n",
    "    lista_direcoes = ['direita', 'esquerda', 'baixo', 'cima']\n",
    "    \n",
    "    for _ in range(4):\n",
    "        direcao_escolhida = choice(lista_direcoes)\n",
    "        lista_direcoes.remove(direcao_escolhida)\n",
    "        \n",
    "        try:\n",
    "            # para direita\n",
    "            if (direcao_escolhida == 'direita') and (labirinto[linha][coluna+1] == procurado):\n",
    "                return linha, coluna+1\n",
    "\n",
    "            # para esquerda\n",
    "            elif (direcao_escolhida == 'esquerda') and labirinto[linha][coluna-1] == procurado:\n",
    "                return linha, coluna-1\n",
    "\n",
    "            # para baixo\n",
    "            elif (direcao_escolhida == 'baixo') and labirinto[linha+1][coluna] == procurado:\n",
    "                return linha+1, coluna\n",
    "\n",
    "             # para cima\n",
    "            elif (direcao_escolhida == 'cima') and labirinto[linha-1][coluna] == procurado:\n",
    "                return linha-1, coluna\n",
    "        except:\n",
    "            # nao possui espaço para movimentação em um dos lados (key eror)\n",
    "            pass\n",
    "            \n",
    "        \n",
    "    # nao foi encontrado\n",
    "    return False"
   ]
  },
  {
   "cell_type": "code",
   "execution_count": 6,
   "id": "837da0b3",
   "metadata": {
    "ExecuteTime": {
     "end_time": "2022-04-10T22:02:30.241637Z",
     "start_time": "2022-04-10T22:02:30.226649Z"
    }
   },
   "outputs": [],
   "source": [
    "def retornar_labirinto_padrao(n_linha, n_coluna):\n",
    "    labirinto = []\n",
    "    for i in range(n_linha):\n",
    "\n",
    "        # primeira e ultimas linhas\n",
    "        if i == 0 or i == n_linha-1:\n",
    "            linha = ['#' for j in range(n_coluna)]\n",
    "\n",
    "        # outros\n",
    "        else:\n",
    "            linha = ['#'] + ['|' for j in range(n_coluna-2)] + ['#']\n",
    "\n",
    "        labirinto.append(linha)\n",
    "    \n",
    "    return labirinto"
   ]
  },
  {
   "cell_type": "code",
   "execution_count": 7,
   "id": "d26506ef",
   "metadata": {
    "ExecuteTime": {
     "end_time": "2022-04-10T22:02:30.708788Z",
     "start_time": "2022-04-10T22:02:30.689796Z"
    }
   },
   "outputs": [],
   "source": [
    "def preencher_paredes(lab):\n",
    "    for linha in lab:\n",
    "        for j in range(len(linha)):\n",
    "            if linha[j] != '#':\n",
    "                linha[j] = choice(['P', 'P', ' ', ' ', ' '])\n",
    "\n",
    "#     Proximo teste\n",
    "#     56 --> '#' --> Não muda\n",
    "#     54 --> 'P'\n",
    "#     90 --> "
   ]
  },
  {
   "cell_type": "code",
   "execution_count": 8,
   "id": "e6a2d59a",
   "metadata": {
    "ExecuteTime": {
     "end_time": "2022-04-10T22:02:31.157950Z",
     "start_time": "2022-04-10T22:02:31.136959Z"
    }
   },
   "outputs": [],
   "source": [
    "def contar_espacos(labirinto, caracter=' '):\n",
    "    qtd = 0\n",
    "    for linha in labirinto:\n",
    "        for valor in linha:\n",
    "            if valor == caracter:\n",
    "                qtd += 1\n",
    "    return qtd"
   ]
  },
  {
   "cell_type": "code",
   "execution_count": 9,
   "id": "609596d0",
   "metadata": {
    "ExecuteTime": {
     "end_time": "2022-04-10T22:02:31.609591Z",
     "start_time": "2022-04-10T22:02:31.590587Z"
    }
   },
   "outputs": [],
   "source": [
    "def func_aux(labirinto, posicao_atual):\n",
    "    \n",
    "    contador = 0\n",
    "    \n",
    "    pilha_de_entradas = []\n",
    "    \n",
    "    while True:\n",
    "        try:\n",
    "            # movimentacao para ' '\n",
    "            if procurar_direcional(labirinto, posicao_atual, ' '):\n",
    "                # salvar na pilha\n",
    "                pilha_de_entradas.append(posicao_atual)\n",
    "\n",
    "                # colocando '-' na posicao atual\n",
    "                labirinto[posicao_atual[0]][posicao_atual[1]] = '-'\n",
    "\n",
    "                # mudando a posição do X\n",
    "                posicao_atual = procurar_direcional(labirinto, posicao_atual, ' ')\n",
    "                labirinto[posicao_atual[0]][posicao_atual[1]] = 'X'\n",
    "\n",
    "                contador += 1\n",
    "\n",
    "            # nao tem ' ' em volta --> volta o caminho\n",
    "            else:\n",
    "                labirinto[posicao_atual[0]][posicao_atual[1]] = '-'\n",
    "\n",
    "                posicao_atual = pilha_de_entradas.pop()\n",
    "                labirinto[posicao_atual[0]][posicao_atual[1]] = 'X'\n",
    "\n",
    "        except: \n",
    "            return contador\n",
    "    "
   ]
  },
  {
   "cell_type": "code",
   "execution_count": 12,
   "id": "359bb412",
   "metadata": {
    "ExecuteTime": {
     "end_time": "2022-04-10T22:02:33.220152Z",
     "start_time": "2022-04-10T22:02:33.200163Z"
    }
   },
   "outputs": [],
   "source": [
    "def alterar_caracteres(labirinto, carac_anterior, carac_futuro):\n",
    "    for linha in labirinto:\n",
    "        for i in range(len(linha)):\n",
    "            linha[i] = linha[i].replace(carac_anterior, carac_futuro)"
   ]
  },
  {
   "cell_type": "code",
   "execution_count": 13,
   "id": "ccb50424",
   "metadata": {
    "ExecuteTime": {
     "end_time": "2022-04-10T22:02:34.124535Z",
     "start_time": "2022-04-10T22:02:34.098553Z"
    }
   },
   "outputs": [],
   "source": [
    "def criar_labirinto(n_linha, n_coluna):\n",
    "    \n",
    "    inicio_tempo = time.perf_counter() \n",
    "    \n",
    "    labirinto = retornar_labirinto_padrao(n_linha, n_coluna)\n",
    "    preencher_paredes(labirinto)\n",
    "    \n",
    "    posicao_atual = posicionar_aleatorio(labirinto, 'X', ['#', 'P'])\n",
    "    \n",
    "    qtd_vazios = contar_espacos(labirinto, ' ')\n",
    "\n",
    "    contador_referencia = func_aux(cp.deepcopy(labirinto), posicao_atual)\n",
    "    \n",
    "    while True:\n",
    "        for i in range(len(labirinto)):\n",
    "\n",
    "            for j in range(len(labirinto[0])):\n",
    "\n",
    "                if labirinto[i][j] == 'P':\n",
    "                    \n",
    "                    # simulando a mudanca\n",
    "\n",
    "                    copia_labirinto = [linha.copy() for linha in cp.deepcopy(labirinto)].copy()\n",
    "                    \n",
    "                    copia_labirinto[i][j] = ' '\n",
    "\n",
    "                    posicao_do_alterado = posicionar_aleatorio(copia_labirinto, 'P', ['X', '#', 'P'])\n",
    "\n",
    "                    contador = func_aux(copia_labirinto, posicao_atual)\n",
    "                    \n",
    "                    if contador == qtd_vazios:\n",
    "                        # encontrou o labirinto \n",
    "                \n",
    "                        # faz a ultima alteracao\n",
    "                        labirinto[i][j] = ' '\n",
    "                        labirinto[posicao_do_alterado[0]][posicao_do_alterado[1]] = 'P'\n",
    "                        \n",
    "                        # padronizacao dos caracteres\n",
    "                        alterar_caracteres(labirinto, 'X', ' ')\n",
    "                        \n",
    "                        return labirinto\n",
    "                    \n",
    "                    elif contador > contador_referencia+1:\n",
    "                        # faz a mudanca\n",
    "                        labirinto[i][j] = ' '\n",
    "                        labirinto[posicao_do_alterado[0]][posicao_do_alterado[1]] = 'P'\n",
    "                    \n",
    "                    else:\n",
    "                        # nao faz a mudanca\n",
    "                        pass\n",
    "                    \n",
    "                    if time.perf_counter() - inicio_tempo > n_linha:\n",
    "                        # desisti desse labirinto e deve testar outro --> tempo arbitrario\n",
    "                        return False\n",
    "                        \n",
    "\n",
    "                    contador_referencia = contador\n",
    "\n",
    "                else: \n",
    "                    pass"
   ]
  },
  {
   "cell_type": "code",
   "execution_count": 14,
   "id": "9b11b278",
   "metadata": {
    "ExecuteTime": {
     "end_time": "2022-04-10T22:02:34.624967Z",
     "start_time": "2022-04-10T22:02:34.614972Z"
    }
   },
   "outputs": [],
   "source": [
    "def gerar_entrada_ou_saida(labirinto, caractere_colocado):\n",
    "    while True:\n",
    "        copia_labirinto = cp.deepcopy(labirinto)\n",
    "        posicao = posicionar_aleatorio(copia_labirinto, caractere_colocado, ['P', ' '])\n",
    "        if procurar_direcional(copia_labirinto, posicao, ' '):\n",
    "            labirinto[posicao[0]][posicao[1]] = caractere_colocado\n",
    "            return posicao[0], posicao[1]"
   ]
  },
  {
   "cell_type": "code",
   "execution_count": 15,
   "id": "980fabac",
   "metadata": {
    "ExecuteTime": {
     "end_time": "2022-04-10T22:02:35.201168Z",
     "start_time": "2022-04-10T22:02:35.187177Z"
    }
   },
   "outputs": [],
   "source": [
    "def gerar_labirinto_completo(n_linha, n_coluna):\n",
    "    while True:\n",
    "        print(f'Gerando labirinto...')\n",
    "\n",
    "        labirinto = criar_labirinto(n_linha, n_coluna)\n",
    "        if labirinto:\n",
    "            print('O labirinto foi gerado!\\n')\n",
    "            break\n",
    "    \n",
    "    # gerando entrada\n",
    "    posicao_entrada = gerar_entrada_ou_saida(labirinto, ' ')\n",
    "\n",
    "    # gerando saida\n",
    "    gerar_entrada_ou_saida(labirinto, 'S')\n",
    "    \n",
    "    # alterando P por #\n",
    "    alterar_caracteres(labirinto, 'P', '#')\n",
    "\n",
    "\n",
    "    \n",
    "    return labirinto, posicao_entrada"
   ]
  },
  {
   "cell_type": "code",
   "execution_count": 16,
   "id": "440736b8",
   "metadata": {
    "ExecuteTime": {
     "end_time": "2022-04-10T22:02:35.704592Z",
     "start_time": "2022-04-10T22:02:35.677606Z"
    }
   },
   "outputs": [],
   "source": [
    "def jogo_labirinto(labirinto, posicao_robo):\n",
    "    \n",
    "    clear_output(wait=True)\n",
    "    \n",
    "    if posicao_robo:\n",
    "        posicao_atual = posicao_robo\n",
    "    else:\n",
    "        posicao_atual = posicionar_aleatorio(labirinto, 'X', ['#'])\n",
    "\n",
    "    pilha_de_entradas = []\n",
    "\n",
    "    while True:\n",
    "        # vitoria\n",
    "        if procurar_direcional(labirinto, posicao_atual, 'S'):\n",
    "            print('Parabéns! Você ganhou!\\n\\n')\n",
    "            printar_labirinto(labirinto)\n",
    "            break\n",
    "\n",
    "        # movimentacao para ' '\n",
    "        elif procurar_direcional(labirinto, posicao_atual, ' '):\n",
    "            # salvar na pilha\n",
    "            pilha_de_entradas.append(posicao_atual)\n",
    "\n",
    "            # colocando '-' na posicao atual\n",
    "            labirinto[posicao_atual[0]][posicao_atual[1]] = '-'\n",
    "\n",
    "            # mudando a posição do X\n",
    "            posicao_atual = procurar_direcional(labirinto, posicao_atual, ' ')\n",
    "            labirinto[posicao_atual[0]][posicao_atual[1]] = 'X'\n",
    "\n",
    "        # nao tem ' ' em volta --> volta o caminho\n",
    "        else:\n",
    "            labirinto[posicao_atual[0]][posicao_atual[1]] = '-'\n",
    "\n",
    "            posicao_atual = pilha_de_entradas.pop()\n",
    "            labirinto[posicao_atual[0]][posicao_atual[1]] = 'X'\n",
    "\n",
    "        printar_labirinto(labirinto)\n",
    "        \n",
    "        time.sleep(60/ (len(labirinto) * len(labirinto[0])) )\n",
    "        \n",
    "        clear_output(wait=True)"
   ]
  },
  {
   "cell_type": "code",
   "execution_count": 17,
   "id": "a55bfcea",
   "metadata": {
    "ExecuteTime": {
     "end_time": "2022-04-10T22:02:36.236861Z",
     "start_time": "2022-04-10T22:02:36.223867Z"
    }
   },
   "outputs": [],
   "source": [
    "def posicionar_robo_aleatoriamente():\n",
    "    entrada = input(\n",
    "        '''Deseja coloca o robô na entrada ou em uma posição aleátoria? :)\n",
    "    DIGITE 1 para posicionar aleatoriamente\n",
    "    DIGITE 2 para posicionar na entrada\n",
    "    \n",
    "            ''')\n",
    "    \n",
    "    if not entrada.strip() in ['1', '2']:\n",
    "        print('\\n Por favor digite umas das opções validas!!')\n",
    "        return posicionar_robo_aleatoriamente()\n",
    "    \n",
    "    return True if entrada.strip() == '1' else False"
   ]
  },
  {
   "cell_type": "code",
   "execution_count": 18,
   "id": "72b602bc",
   "metadata": {
    "ExecuteTime": {
     "end_time": "2022-04-10T22:15:51.027505Z",
     "start_time": "2022-04-10T22:02:36.798345Z"
    }
   },
   "outputs": [
    {
     "name": "stdout",
     "output_type": "stream",
     "text": [
      "Parabéns! Você ganhou!\n",
      "\n",
      "\n",
      "   00 01 02 03 04 05 06 07 08 09 10 11 12 13 14 15 16 17 18 19\n",
      "00 ## ## ## ## ## ## ## ## ## -- ## ## ## ## ## ## ## ## ## ##\n",
      "01 ## ## -- -- ## ## -- -- -- --    ## ## -- -- -- -- -- ## ##\n",
      "02 ## -- ## -- -- ## -- ## -- -- -- ## -- -- ## -- ## -- ## ##\n",
      "03 ## -- -- -- -- -- -- ## --    -- -- -- ## ## -- -- -- ## ##\n",
      "04 ## ## -- -- ## ## -- -- --    ## -- ## ## -- ## ## -- ## ##\n",
      "05 ## ## -- -- -- -- -- ## ##    ## ## -- -- -- -- -- --    ##\n",
      "06 ## -- -- -- ## ## -- ##    ## ## ## -- ## -- ## -- ##    ##\n",
      "07 ## ## -- -- -- -- ##       ##       -- -- -- ## -- -- ## ##\n",
      "08 ## ## -- -- -- -- ##       ##    ## -- -- -- -- -- ## ## ##\n",
      "09 ## -- -- -- -- ## ##          ## ## -- ## ## ## -- ## ## ##\n",
      "10 ## -- -- ## ## -- -- ##          ## -- -- ## -- -- ## ## ##\n",
      "11 ## ## -- ## -- -- -- ## ## ##       ## --    ## -- ## ## ##\n",
      "12 ## -- -- -- -- ## ##             ##    -- ## ## -- ## ## ##\n",
      "13 ## ## -- ## -- ##       ##    ##    -- -- ## ## -- -- -- ##\n",
      "14 ## ## -- ## -- -- ## ##          ## -- ## -- -- -- ## -- ##\n",
      "15 ## ## -- -- -- -- ## ##          ## -- -- -- -- ## ## ## ##\n",
      "16 ## -- -- ## ## -- -- ## ## ##       -- -- -- ## -- ## -- ##\n",
      "17 ## ## -- -- -- ## ## ## ## -- ## ## -- ## ## ## -- -- -- ##\n",
      "18 ## ## -- -- -- ## ## XX -- -- -- -- -- -- -- -- -- ## ## ##\n",
      "19 ## ## ## ## ## ## ## SS ## ## ## ## ## ## ## ## ## ## ## ##\n"
     ]
    }
   ],
   "source": [
    "labirinto, posicao_entrada = gerar_labirinto_completo(20, 20)\n",
    "  \n",
    "time.sleep(0.5)\n",
    "\n",
    "printar_labirinto(labirinto)\n",
    "\n",
    "time.sleep(1)\n",
    "\n",
    "# Lê do usuario como o robo deve ser posicionado\n",
    "posicionar_aleatoriamente = posicionar_robo_aleatoriamente()\n",
    "\n",
    "if posicionar_aleatoriamente:\n",
    "    posicao_robo = False\n",
    "else:\n",
    "    posicao_robo = posicao_entrada\n",
    "    \n",
    "\n",
    "jogo_labirinto(labirinto, posicao_robo)"
   ]
  }
 ],
 "metadata": {
  "kernelspec": {
   "display_name": "Python 3 (ipykernel)",
   "language": "python",
   "name": "python3"
  },
  "language_info": {
   "codemirror_mode": {
    "name": "ipython",
    "version": 3
   },
   "file_extension": ".py",
   "mimetype": "text/x-python",
   "name": "python",
   "nbconvert_exporter": "python",
   "pygments_lexer": "ipython3",
   "version": "3.8.5"
  },
  "varInspector": {
   "cols": {
    "lenName": 16,
    "lenType": 16,
    "lenVar": 40
   },
   "kernels_config": {
    "python": {
     "delete_cmd_postfix": "",
     "delete_cmd_prefix": "del ",
     "library": "var_list.py",
     "varRefreshCmd": "print(var_dic_list())"
    },
    "r": {
     "delete_cmd_postfix": ") ",
     "delete_cmd_prefix": "rm(",
     "library": "var_list.r",
     "varRefreshCmd": "cat(var_dic_list()) "
    }
   },
   "types_to_exclude": [
    "module",
    "function",
    "builtin_function_or_method",
    "instance",
    "_Feature"
   ],
   "window_display": false
  }
 },
 "nbformat": 4,
 "nbformat_minor": 5
}
